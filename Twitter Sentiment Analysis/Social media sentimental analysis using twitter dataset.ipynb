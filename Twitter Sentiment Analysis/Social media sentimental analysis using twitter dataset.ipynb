{
 "cells": [
  {
   "cell_type": "markdown",
   "metadata": {},
   "source": [
    "# SOCIAL MEDIA SENTIMENTAL ANALYSIS USING TWITTER DATASET"
   ]
  },
  {
   "cell_type": "code",
   "execution_count": 1,
   "metadata": {},
   "outputs": [],
   "source": [
    "import tweepy\n",
    "from textblob import TextBlob\n",
    "import pandas as pd\n",
    "import numpy as np\n",
    "import re\n",
    "import matplotlib.pyplot as plt"
   ]
  },
  {
   "cell_type": "code",
   "execution_count": 2,
   "metadata": {},
   "outputs": [],
   "source": [
    "config = pd.read_csv('./config.csv')"
   ]
  },
  {
   "cell_type": "code",
   "execution_count": 3,
   "metadata": {},
   "outputs": [],
   "source": [
    "twitterApiKey = config['twitterApiKey'][0]\n",
    "twitterApiSecret = config['twitterApiSecret'][0]\n",
    "twitterApiAccessToken = config['twitterApiAccessToken'][0]\n",
    "twitterApiAccessTokenSecret = config['twitterApiAccessTokenSecret'][0]"
   ]
  },
  {
   "cell_type": "code",
   "execution_count": 4,
   "metadata": {},
   "outputs": [],
   "source": [
    "auth = tweepy.OAuthHandler(twitterApiKey,twitterApiSecret)\n",
    "auth.set_access_token(twitterApiAccessToken, twitterApiAccessTokenSecret)\n",
    "twitterApi = tweepy.API(auth,wait_on_rate_limit= True)"
   ]
  },
  {
   "cell_type": "code",
   "execution_count": 5,
   "metadata": {},
   "outputs": [
    {
     "name": "stdout",
     "output_type": "stream",
     "text": [
      "imVkohli\n"
     ]
    }
   ],
   "source": [
    "twitterAccount = input()"
   ]
  },
  {
   "cell_type": "code",
   "execution_count": 6,
   "metadata": {},
   "outputs": [],
   "source": [
    "tweets  = tweepy.Cursor(twitterApi.user_timeline,\n",
    "                        screen_name = twitterAccount,\n",
    "                        count = None,\n",
    "                        since_id = None,\n",
    "                        max_id = None,trim_user = True,exclude_replies=True,\n",
    "                        include_entities=False).items(100);"
   ]
  },
  {
   "cell_type": "markdown",
   "metadata": {},
   "source": [
    "# Creating Dataframe"
   ]
  },
  {
   "cell_type": "code",
   "execution_count": 7,
   "metadata": {},
   "outputs": [],
   "source": [
    "dataframe = pd.DataFrame(data =[tweet.text for tweet in tweets], columns = ['Tweet'])"
   ]
  },
  {
   "cell_type": "code",
   "execution_count": 8,
   "metadata": {},
   "outputs": [
    {
     "data": {
      "text/html": [
       "<div>\n",
       "<style scoped>\n",
       "    .dataframe tbody tr th:only-of-type {\n",
       "        vertical-align: middle;\n",
       "    }\n",
       "\n",
       "    .dataframe tbody tr th {\n",
       "        vertical-align: top;\n",
       "    }\n",
       "\n",
       "    .dataframe thead th {\n",
       "        text-align: right;\n",
       "    }\n",
       "</style>\n",
       "<table border=\"1\" class=\"dataframe\">\n",
       "  <thead>\n",
       "    <tr style=\"text-align: right;\">\n",
       "      <th></th>\n",
       "      <th>Tweet</th>\n",
       "    </tr>\n",
       "  </thead>\n",
       "  <tbody>\n",
       "    <tr>\n",
       "      <th>0</th>\n",
       "      <td>WTF?! Keep Calm. 😎 It's the WROGN THROWAWAY FE...</td>\n",
       "    </tr>\n",
       "    <tr>\n",
       "      <th>1</th>\n",
       "      <td>The new all black Xtreme 160R ‘Stealth Edition...</td>\n",
       "    </tr>\n",
       "    <tr>\n",
       "      <th>2</th>\n",
       "      <td>Deeply saddened by the untimely demise of CDS ...</td>\n",
       "    </tr>\n",
       "    <tr>\n",
       "      <th>3</th>\n",
       "      <td>Once upon a time. 🚗🏍️💨\\n#80skids #backintheday...</td>\n",
       "    </tr>\n",
       "    <tr>\n",
       "      <th>4</th>\n",
       "      <td>The passion runs within you.\\nGo all out and b...</td>\n",
       "    </tr>\n",
       "  </tbody>\n",
       "</table>\n",
       "</div>"
      ],
      "text/plain": [
       "                                               Tweet\n",
       "0  WTF?! Keep Calm. 😎 It's the WROGN THROWAWAY FE...\n",
       "1  The new all black Xtreme 160R ‘Stealth Edition...\n",
       "2  Deeply saddened by the untimely demise of CDS ...\n",
       "3  Once upon a time. 🚗🏍️💨\\n#80skids #backintheday...\n",
       "4  The passion runs within you.\\nGo all out and b..."
      ]
     },
     "execution_count": 8,
     "metadata": {},
     "output_type": "execute_result"
    }
   ],
   "source": [
    "dataframe.head()"
   ]
  },
  {
   "cell_type": "code",
   "execution_count": 9,
   "metadata": {},
   "outputs": [],
   "source": [
    "def cleanuptweet(text):\n",
    "    text = re.sub(r'@[A-Za-z0-9_]+','',text)\n",
    "    text = re.sub(r'#', '', text)\n",
    "    text = re.sub(r'RT : ','',text)\n",
    "    text = re.sub(r'http?:\\/\\/[A-Za-z0-9\\.\\/]+','',text)\n",
    "    return text"
   ]
  },
  {
   "cell_type": "code",
   "execution_count": 10,
   "metadata": {},
   "outputs": [],
   "source": [
    "dataframe['Tweet'] = dataframe['Tweet'].apply(cleanuptweet) "
   ]
  },
  {
   "cell_type": "code",
   "execution_count": 11,
   "metadata": {},
   "outputs": [],
   "source": [
    "def gettextsubjectivity(text):\n",
    "    return TextBlob(text).sentiment.subjectivity"
   ]
  },
  {
   "cell_type": "code",
   "execution_count": 12,
   "metadata": {},
   "outputs": [],
   "source": [
    "def gettextpolarity(text):\n",
    "    return TextBlob(text).sentiment.polarity"
   ]
  },
  {
   "cell_type": "code",
   "execution_count": 13,
   "metadata": {},
   "outputs": [],
   "source": [
    "dataframe['Subjectivity'] = dataframe['Tweet'].apply(gettextsubjectivity)\n",
    "dataframe['Polarity'] = dataframe['Tweet'].apply(gettextpolarity)"
   ]
  },
  {
   "cell_type": "code",
   "execution_count": 14,
   "metadata": {},
   "outputs": [
    {
     "data": {
      "text/html": [
       "<div>\n",
       "<style scoped>\n",
       "    .dataframe tbody tr th:only-of-type {\n",
       "        vertical-align: middle;\n",
       "    }\n",
       "\n",
       "    .dataframe tbody tr th {\n",
       "        vertical-align: top;\n",
       "    }\n",
       "\n",
       "    .dataframe thead th {\n",
       "        text-align: right;\n",
       "    }\n",
       "</style>\n",
       "<table border=\"1\" class=\"dataframe\">\n",
       "  <thead>\n",
       "    <tr style=\"text-align: right;\">\n",
       "      <th></th>\n",
       "      <th>Tweet</th>\n",
       "      <th>Subjectivity</th>\n",
       "      <th>Polarity</th>\n",
       "    </tr>\n",
       "  </thead>\n",
       "  <tbody>\n",
       "    <tr>\n",
       "      <th>0</th>\n",
       "      <td>WTF?! Keep Calm. 😎 It's the WROGN THROWAWAY FE...</td>\n",
       "      <td>0.712500</td>\n",
       "      <td>-0.237500</td>\n",
       "    </tr>\n",
       "    <tr>\n",
       "      <th>1</th>\n",
       "      <td>The new all black Xtreme 160R ‘Stealth Edition...</td>\n",
       "      <td>0.429293</td>\n",
       "      <td>-0.060101</td>\n",
       "    </tr>\n",
       "    <tr>\n",
       "      <th>2</th>\n",
       "      <td>Deeply saddened by the untimely demise of CDS ...</td>\n",
       "      <td>0.508333</td>\n",
       "      <td>-0.291667</td>\n",
       "    </tr>\n",
       "    <tr>\n",
       "      <th>3</th>\n",
       "      <td>Once upon a time. 🚗🏍️💨\\n80skids backinthedays....</td>\n",
       "      <td>0.000000</td>\n",
       "      <td>0.000000</td>\n",
       "    </tr>\n",
       "    <tr>\n",
       "      <th>4</th>\n",
       "      <td>The passion runs within you.\\nGo all out and b...</td>\n",
       "      <td>0.121429</td>\n",
       "      <td>-0.035714</td>\n",
       "    </tr>\n",
       "    <tr>\n",
       "      <th>...</th>\n",
       "      <td>...</td>\n",
       "      <td>...</td>\n",
       "      <td>...</td>\n",
       "    </tr>\n",
       "    <tr>\n",
       "      <th>95</th>\n",
       "      <td>🏋️🏋️‍♂️ https://t.co/Z6rkGcApPb</td>\n",
       "      <td>0.000000</td>\n",
       "      <td>0.000000</td>\n",
       "    </tr>\n",
       "    <tr>\n",
       "      <th>96</th>\n",
       "      <td>Happy birthday Bhajju Pa. \\nGod bless you with...</td>\n",
       "      <td>0.600000</td>\n",
       "      <td>0.733333</td>\n",
       "    </tr>\n",
       "    <tr>\n",
       "      <th>97</th>\n",
       "      <td>This isn’t just a team. It’s a family. We move...</td>\n",
       "      <td>0.000000</td>\n",
       "      <td>0.000000</td>\n",
       "    </tr>\n",
       "    <tr>\n",
       "      <th>98</th>\n",
       "      <td>Happy father's day to all the father's all acr...</td>\n",
       "      <td>1.000000</td>\n",
       "      <td>0.900000</td>\n",
       "    </tr>\n",
       "    <tr>\n",
       "      <th>99</th>\n",
       "      <td>A legacy that inspired a whole nation to aim f...</td>\n",
       "      <td>0.400000</td>\n",
       "      <td>0.200000</td>\n",
       "    </tr>\n",
       "  </tbody>\n",
       "</table>\n",
       "<p>100 rows × 3 columns</p>\n",
       "</div>"
      ],
      "text/plain": [
       "                                                Tweet  Subjectivity  Polarity\n",
       "0   WTF?! Keep Calm. 😎 It's the WROGN THROWAWAY FE...      0.712500 -0.237500\n",
       "1   The new all black Xtreme 160R ‘Stealth Edition...      0.429293 -0.060101\n",
       "2   Deeply saddened by the untimely demise of CDS ...      0.508333 -0.291667\n",
       "3   Once upon a time. 🚗🏍️💨\\n80skids backinthedays....      0.000000  0.000000\n",
       "4   The passion runs within you.\\nGo all out and b...      0.121429 -0.035714\n",
       "..                                                ...           ...       ...\n",
       "95                    🏋️🏋️‍♂️ https://t.co/Z6rkGcApPb      0.000000  0.000000\n",
       "96  Happy birthday Bhajju Pa. \\nGod bless you with...      0.600000  0.733333\n",
       "97  This isn’t just a team. It’s a family. We move...      0.000000  0.000000\n",
       "98  Happy father's day to all the father's all acr...      1.000000  0.900000\n",
       "99  A legacy that inspired a whole nation to aim f...      0.400000  0.200000\n",
       "\n",
       "[100 rows x 3 columns]"
      ]
     },
     "execution_count": 14,
     "metadata": {},
     "output_type": "execute_result"
    }
   ],
   "source": [
    "dataframe.head(101)"
   ]
  },
  {
   "cell_type": "code",
   "execution_count": 15,
   "metadata": {},
   "outputs": [],
   "source": [
    "dataframe = dataframe.drop(dataframe[dataframe['Tweet']==''].index)"
   ]
  },
  {
   "cell_type": "code",
   "execution_count": 16,
   "metadata": {},
   "outputs": [
    {
     "data": {
      "text/html": [
       "<div>\n",
       "<style scoped>\n",
       "    .dataframe tbody tr th:only-of-type {\n",
       "        vertical-align: middle;\n",
       "    }\n",
       "\n",
       "    .dataframe tbody tr th {\n",
       "        vertical-align: top;\n",
       "    }\n",
       "\n",
       "    .dataframe thead th {\n",
       "        text-align: right;\n",
       "    }\n",
       "</style>\n",
       "<table border=\"1\" class=\"dataframe\">\n",
       "  <thead>\n",
       "    <tr style=\"text-align: right;\">\n",
       "      <th></th>\n",
       "      <th>Tweet</th>\n",
       "      <th>Subjectivity</th>\n",
       "      <th>Polarity</th>\n",
       "    </tr>\n",
       "  </thead>\n",
       "  <tbody>\n",
       "    <tr>\n",
       "      <th>0</th>\n",
       "      <td>WTF?! Keep Calm. 😎 It's the WROGN THROWAWAY FE...</td>\n",
       "      <td>0.712500</td>\n",
       "      <td>-0.237500</td>\n",
       "    </tr>\n",
       "    <tr>\n",
       "      <th>1</th>\n",
       "      <td>The new all black Xtreme 160R ‘Stealth Edition...</td>\n",
       "      <td>0.429293</td>\n",
       "      <td>-0.060101</td>\n",
       "    </tr>\n",
       "    <tr>\n",
       "      <th>2</th>\n",
       "      <td>Deeply saddened by the untimely demise of CDS ...</td>\n",
       "      <td>0.508333</td>\n",
       "      <td>-0.291667</td>\n",
       "    </tr>\n",
       "    <tr>\n",
       "      <th>3</th>\n",
       "      <td>Once upon a time. 🚗🏍️💨\\n80skids backinthedays....</td>\n",
       "      <td>0.000000</td>\n",
       "      <td>0.000000</td>\n",
       "    </tr>\n",
       "    <tr>\n",
       "      <th>4</th>\n",
       "      <td>The passion runs within you.\\nGo all out and b...</td>\n",
       "      <td>0.121429</td>\n",
       "      <td>-0.035714</td>\n",
       "    </tr>\n",
       "    <tr>\n",
       "      <th>...</th>\n",
       "      <td>...</td>\n",
       "      <td>...</td>\n",
       "      <td>...</td>\n",
       "    </tr>\n",
       "    <tr>\n",
       "      <th>95</th>\n",
       "      <td>🏋️🏋️‍♂️ https://t.co/Z6rkGcApPb</td>\n",
       "      <td>0.000000</td>\n",
       "      <td>0.000000</td>\n",
       "    </tr>\n",
       "    <tr>\n",
       "      <th>96</th>\n",
       "      <td>Happy birthday Bhajju Pa. \\nGod bless you with...</td>\n",
       "      <td>0.600000</td>\n",
       "      <td>0.733333</td>\n",
       "    </tr>\n",
       "    <tr>\n",
       "      <th>97</th>\n",
       "      <td>This isn’t just a team. It’s a family. We move...</td>\n",
       "      <td>0.000000</td>\n",
       "      <td>0.000000</td>\n",
       "    </tr>\n",
       "    <tr>\n",
       "      <th>98</th>\n",
       "      <td>Happy father's day to all the father's all acr...</td>\n",
       "      <td>1.000000</td>\n",
       "      <td>0.900000</td>\n",
       "    </tr>\n",
       "    <tr>\n",
       "      <th>99</th>\n",
       "      <td>A legacy that inspired a whole nation to aim f...</td>\n",
       "      <td>0.400000</td>\n",
       "      <td>0.200000</td>\n",
       "    </tr>\n",
       "  </tbody>\n",
       "</table>\n",
       "<p>100 rows × 3 columns</p>\n",
       "</div>"
      ],
      "text/plain": [
       "                                                Tweet  Subjectivity  Polarity\n",
       "0   WTF?! Keep Calm. 😎 It's the WROGN THROWAWAY FE...      0.712500 -0.237500\n",
       "1   The new all black Xtreme 160R ‘Stealth Edition...      0.429293 -0.060101\n",
       "2   Deeply saddened by the untimely demise of CDS ...      0.508333 -0.291667\n",
       "3   Once upon a time. 🚗🏍️💨\\n80skids backinthedays....      0.000000  0.000000\n",
       "4   The passion runs within you.\\nGo all out and b...      0.121429 -0.035714\n",
       "..                                                ...           ...       ...\n",
       "95                    🏋️🏋️‍♂️ https://t.co/Z6rkGcApPb      0.000000  0.000000\n",
       "96  Happy birthday Bhajju Pa. \\nGod bless you with...      0.600000  0.733333\n",
       "97  This isn’t just a team. It’s a family. We move...      0.000000  0.000000\n",
       "98  Happy father's day to all the father's all acr...      1.000000  0.900000\n",
       "99  A legacy that inspired a whole nation to aim f...      0.400000  0.200000\n",
       "\n",
       "[100 rows x 3 columns]"
      ]
     },
     "execution_count": 16,
     "metadata": {},
     "output_type": "execute_result"
    }
   ],
   "source": [
    "dataframe.head(101)"
   ]
  },
  {
   "cell_type": "code",
   "execution_count": 17,
   "metadata": {},
   "outputs": [],
   "source": [
    "def gettextanalysis(a):\n",
    "    if a<0 :\n",
    "         return 'Negative'\n",
    "    elif a==0 :\n",
    "         return 'Neutral'\n",
    "    else:\n",
    "         return 'Positive'"
   ]
  },
  {
   "cell_type": "code",
   "execution_count": 18,
   "metadata": {},
   "outputs": [],
   "source": [
    "dataframe['Score'] = dataframe['Polarity'].apply(gettextanalysis) "
   ]
  },
  {
   "cell_type": "code",
   "execution_count": 19,
   "metadata": {},
   "outputs": [
    {
     "data": {
      "text/html": [
       "<div>\n",
       "<style scoped>\n",
       "    .dataframe tbody tr th:only-of-type {\n",
       "        vertical-align: middle;\n",
       "    }\n",
       "\n",
       "    .dataframe tbody tr th {\n",
       "        vertical-align: top;\n",
       "    }\n",
       "\n",
       "    .dataframe thead th {\n",
       "        text-align: right;\n",
       "    }\n",
       "</style>\n",
       "<table border=\"1\" class=\"dataframe\">\n",
       "  <thead>\n",
       "    <tr style=\"text-align: right;\">\n",
       "      <th></th>\n",
       "      <th>Tweet</th>\n",
       "      <th>Subjectivity</th>\n",
       "      <th>Polarity</th>\n",
       "      <th>Score</th>\n",
       "    </tr>\n",
       "  </thead>\n",
       "  <tbody>\n",
       "    <tr>\n",
       "      <th>0</th>\n",
       "      <td>WTF?! Keep Calm. 😎 It's the WROGN THROWAWAY FE...</td>\n",
       "      <td>0.712500</td>\n",
       "      <td>-0.237500</td>\n",
       "      <td>Negative</td>\n",
       "    </tr>\n",
       "    <tr>\n",
       "      <th>1</th>\n",
       "      <td>The new all black Xtreme 160R ‘Stealth Edition...</td>\n",
       "      <td>0.429293</td>\n",
       "      <td>-0.060101</td>\n",
       "      <td>Negative</td>\n",
       "    </tr>\n",
       "    <tr>\n",
       "      <th>2</th>\n",
       "      <td>Deeply saddened by the untimely demise of CDS ...</td>\n",
       "      <td>0.508333</td>\n",
       "      <td>-0.291667</td>\n",
       "      <td>Negative</td>\n",
       "    </tr>\n",
       "    <tr>\n",
       "      <th>3</th>\n",
       "      <td>Once upon a time. 🚗🏍️💨\\n80skids backinthedays....</td>\n",
       "      <td>0.000000</td>\n",
       "      <td>0.000000</td>\n",
       "      <td>Neutral</td>\n",
       "    </tr>\n",
       "    <tr>\n",
       "      <th>4</th>\n",
       "      <td>The passion runs within you.\\nGo all out and b...</td>\n",
       "      <td>0.121429</td>\n",
       "      <td>-0.035714</td>\n",
       "      <td>Negative</td>\n",
       "    </tr>\n",
       "    <tr>\n",
       "      <th>...</th>\n",
       "      <td>...</td>\n",
       "      <td>...</td>\n",
       "      <td>...</td>\n",
       "      <td>...</td>\n",
       "    </tr>\n",
       "    <tr>\n",
       "      <th>95</th>\n",
       "      <td>🏋️🏋️‍♂️ https://t.co/Z6rkGcApPb</td>\n",
       "      <td>0.000000</td>\n",
       "      <td>0.000000</td>\n",
       "      <td>Neutral</td>\n",
       "    </tr>\n",
       "    <tr>\n",
       "      <th>96</th>\n",
       "      <td>Happy birthday Bhajju Pa. \\nGod bless you with...</td>\n",
       "      <td>0.600000</td>\n",
       "      <td>0.733333</td>\n",
       "      <td>Positive</td>\n",
       "    </tr>\n",
       "    <tr>\n",
       "      <th>97</th>\n",
       "      <td>This isn’t just a team. It’s a family. We move...</td>\n",
       "      <td>0.000000</td>\n",
       "      <td>0.000000</td>\n",
       "      <td>Neutral</td>\n",
       "    </tr>\n",
       "    <tr>\n",
       "      <th>98</th>\n",
       "      <td>Happy father's day to all the father's all acr...</td>\n",
       "      <td>1.000000</td>\n",
       "      <td>0.900000</td>\n",
       "      <td>Positive</td>\n",
       "    </tr>\n",
       "    <tr>\n",
       "      <th>99</th>\n",
       "      <td>A legacy that inspired a whole nation to aim f...</td>\n",
       "      <td>0.400000</td>\n",
       "      <td>0.200000</td>\n",
       "      <td>Positive</td>\n",
       "    </tr>\n",
       "  </tbody>\n",
       "</table>\n",
       "<p>100 rows × 4 columns</p>\n",
       "</div>"
      ],
      "text/plain": [
       "                                                Tweet  Subjectivity  Polarity  \\\n",
       "0   WTF?! Keep Calm. 😎 It's the WROGN THROWAWAY FE...      0.712500 -0.237500   \n",
       "1   The new all black Xtreme 160R ‘Stealth Edition...      0.429293 -0.060101   \n",
       "2   Deeply saddened by the untimely demise of CDS ...      0.508333 -0.291667   \n",
       "3   Once upon a time. 🚗🏍️💨\\n80skids backinthedays....      0.000000  0.000000   \n",
       "4   The passion runs within you.\\nGo all out and b...      0.121429 -0.035714   \n",
       "..                                                ...           ...       ...   \n",
       "95                    🏋️🏋️‍♂️ https://t.co/Z6rkGcApPb      0.000000  0.000000   \n",
       "96  Happy birthday Bhajju Pa. \\nGod bless you with...      0.600000  0.733333   \n",
       "97  This isn’t just a team. It’s a family. We move...      0.000000  0.000000   \n",
       "98  Happy father's day to all the father's all acr...      1.000000  0.900000   \n",
       "99  A legacy that inspired a whole nation to aim f...      0.400000  0.200000   \n",
       "\n",
       "       Score  \n",
       "0   Negative  \n",
       "1   Negative  \n",
       "2   Negative  \n",
       "3    Neutral  \n",
       "4   Negative  \n",
       "..       ...  \n",
       "95   Neutral  \n",
       "96  Positive  \n",
       "97   Neutral  \n",
       "98  Positive  \n",
       "99  Positive  \n",
       "\n",
       "[100 rows x 4 columns]"
      ]
     },
     "execution_count": 19,
     "metadata": {},
     "output_type": "execute_result"
    }
   ],
   "source": [
    "dataframe.head(101)"
   ]
  },
  {
   "cell_type": "code",
   "execution_count": 20,
   "metadata": {},
   "outputs": [
    {
     "name": "stdout",
     "output_type": "stream",
     "text": [
      "56.00000000000001% of positive tweets\n"
     ]
    }
   ],
   "source": [
    "Positive = dataframe[dataframe['Score']=='Positive']\n",
    "print(str(Positive.shape[0]/(dataframe.shape[0])*100)+ '% of positive tweets')\n",
    "p=Positive.shape[0]/dataframe.shape[0]*100"
   ]
  },
  {
   "cell_type": "code",
   "execution_count": 21,
   "metadata": {},
   "outputs": [
    {
     "name": "stdout",
     "output_type": "stream",
     "text": [
      "9.0% of negative tweets\n"
     ]
    }
   ],
   "source": [
    "Negative = dataframe[dataframe['Score']=='Negative']\n",
    "print(str(Negative.shape[0]/(dataframe.shape[0])*100)+ '% of negative tweets')\n",
    "n=Negative.shape[0]/dataframe.shape[0]*100"
   ]
  },
  {
   "cell_type": "code",
   "execution_count": 22,
   "metadata": {},
   "outputs": [
    {
     "name": "stdout",
     "output_type": "stream",
     "text": [
      "35.0% of neutral tweets\n"
     ]
    }
   ],
   "source": [
    "Neutral = dataframe[dataframe['Score']=='Neutral']\n",
    "print(str(Neutral.shape[0]/(dataframe.shape[0])*100)+ '% of neutral tweets')\n",
    "ne=Neutral.shape[0]/dataframe.shape[0]*100"
   ]
  },
  {
   "cell_type": "code",
   "execution_count": 23,
   "metadata": {},
   "outputs": [],
   "source": [
    "Explore = (0,0.2,0)\n",
    "Labels = 'Positive','Negative','Neutral'\n",
    "size=[p,n,ne]\n",
    "colours = ['greenyellow', 'orange' , 'gold']"
   ]
  },
  {
   "cell_type": "code",
   "execution_count": 24,
   "metadata": {},
   "outputs": [
    {
     "data": {
      "image/png": "[encoded data removed]",
      "text/plain": [
       "<Figure size 432x288 with 1 Axes>"
      ]
     },
     "metadata": {},
     "output_type": "display_data"
    }
   ],
   "source": [
    "plt.pie(size,explode = Explore,colors = colours,autopct='%1.1f%%',startangle=180, shadow = True)\n",
    "plt.legend(Labels, loc= (-0.05,0.05) , shadow = True)\n",
    "plt.axis('equal')\n",
    "plt.savefig('Sentimental_Analysis.png')"
   ]
  },
  {
   "cell_type": "code",
   "execution_count": 25,
   "metadata": {},
   "outputs": [
    {
     "data": {
      "text/plain": [
       "<BarContainer object of 3 artists>"
      ]
     },
     "execution_count": 25,
     "metadata": {},
     "output_type": "execute_result"
    },
    {
     "data": {
      "image/png": "[encoded data removed]",
      "text/plain": [
       "<Figure size 432x288 with 1 Axes>"
      ]
     },
     "metadata": {
      "needs_background": "light"
     },
     "output_type": "display_data"
    }
   ],
   "source": [
    "Labels = dataframe.groupby('Score').count().index.values\n",
    "values = dataframe.groupby('Score').size().values\n",
    "plt.bar(Labels,values)"
   ]
  },
  {
   "cell_type": "code",
   "execution_count": 26,
   "metadata": {
    "scrolled": true
   },
   "outputs": [
    {
     "data": {
      "image/png": "[encoded data removed]",
      "text/plain": [
       "<Figure size 432x288 with 1 Axes>"
      ]
     },
     "metadata": {
      "needs_background": "light"
     },
     "output_type": "display_data"
    }
   ],
   "source": [
    "for index,row in dataframe.iterrows():\n",
    "    if row['Score']=='Positive':\n",
    "        plt.scatter(row['Polarity'],row['Subjectivity'],color= 'orange')\n",
    "    if row['Score']=='Negative':\n",
    "        plt.scatter(row['Polarity'],row['Subjectivity'],color= 'green')\n",
    "    if row['Score']=='Neutral':\n",
    "        plt.scatter(row['Polarity'],row['Subjectivity'],color= 'blue')\n",
    "plt.title('Twitter Sentimental Analysis')\n",
    "plt.xlabel('Polarity')\n",
    "plt.ylabel(\"Subjectivity\")\n",
    "plt.show()"
   ]
  },
  {
   "cell_type": "markdown",
   "metadata": {},
   "source": [
    "# SENTIMENTAL ANALYSIS"
   ]
  },
  {
   "cell_type": "code",
   "execution_count": null,
   "metadata": {},
   "outputs": [],
   "source": []
  }
 ],
 "metadata": {
  "kernelspec": {
   "display_name": "Python 3",
   "language": "python",
   "name": "python3"
  },
  "language_info": {
   "codemirror_mode": {
    "name": "ipython",
    "version": 3
   },
   "file_extension": ".py",
   "mimetype": "text/x-python",
   "name": "python",
   "nbconvert_exporter": "python",
   "pygments_lexer": "ipython3",
   "version": "3.8.5"
  }
 },
 "nbformat": 4,
 "nbformat_minor": 4
}
