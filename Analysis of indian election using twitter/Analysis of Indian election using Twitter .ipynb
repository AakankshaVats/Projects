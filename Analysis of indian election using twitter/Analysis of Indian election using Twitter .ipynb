{
 "cells": [
  {
   "cell_type": "markdown",
   "metadata": {},
   "source": [
    "# ANALYSIS OF INDIAN ELECTION USING TWITTER"
   ]
  },
  {
   "cell_type": "markdown",
   "metadata": {},
   "source": [
    "This project on **Analysis of Indian Election using Twitter** is done using Python Programming Language and is basically an analysis of the tweets posted by the **Indian ahead and around  the lok sabha elections**."
   ]
  },
  {
   "cell_type": "markdown",
   "metadata": {},
   "source": [
    "The input for us in this project is a tweeter's tweet fetched from Twitter API and the output will be:\n",
    "\n",
    "•\t**Sentiment Analysis** of the tweets which will help us draw conclusion about the political orientation of the users.    "
   ]
  },
  {
   "cell_type": "code",
   "execution_count": 1,
   "metadata": {},
   "outputs": [],
   "source": [
    "import tweepy\n",
    "from textblob import TextBlob\n",
    "import matplotlib.pyplot as plt\n",
    "plt.style.use('fivethirtyeight')\n",
    "import re\n",
    "import pandas as pd\n",
    "pd.set_option('display.max_columns', None)\n",
    "pd.set_option('display.max_rows', None)"
   ]
  },
  {
   "cell_type": "markdown",
   "metadata": {},
   "source": [
    "***pandas***(to create Dataframes)-for Data Representation,***numpy***(for compulation on dataframe),***re***(for working with regrex),\n",
    "***textblob***(for using NLP method to generate polarity and subjectivity)- for Data Pre-processing/cleaning and Data Anaysis;\n",
    "***matplotlib***-for Data interpretation/visualization"
   ]
  },
  {
   "cell_type": "code",
   "execution_count": 2,
   "metadata": {},
   "outputs": [],
   "source": [
    "# Generated keys and tokens from Twitter developers account\n",
    "consumer_key = \"zvghpJLaBrHdUqloJDlcV7rum\"\n",
    "consumer_sec = \"BKvbGtBlMBUPn9ONG1x7LrYkLclA2sRXT5G4KuGZiPgGlnNq2R\"\n",
    "access_token = \"1383703955218132994-lz4OavJh4DLABqVo4SBnjzqSWw72vE\"\n",
    "access_token_sec = \"oj254ngv1FjYnVveQOL1SQuRxOtR88xkROqaXSm8zalPQ\""
   ]
  },
  {
   "cell_type": "code",
   "execution_count": 3,
   "metadata": {},
   "outputs": [],
   "source": [
    "# create an authentication object\n",
    "auth = tweepy.OAuthHandler(consumer_key, consumer_sec)\n",
    "# set the access token and access token secret\n",
    "auth.set_access_token(access_token, access_token_sec)\n",
    "# create an API object\n",
    "api_connect = tweepy.API(auth)"
   ]
  },
  {
   "cell_type": "code",
   "execution_count": 4,
   "metadata": {},
   "outputs": [
    {
     "name": "stdout",
     "output_type": "stream",
     "text": [
      "enter the subjectBJP\n",
      "enter another subjectCONGRESS\n",
      "enter another subjectAAP\n"
     ]
    }
   ],
   "source": [
    "# Taking input from user and searching tweets from twitter through twitter API \n",
    "text1=input(\"enter the subject\")\n",
    "text2=input(\"enter another subject\")\n",
    "text3=input(\"enter another subject\")\n",
    "tweet_data = api_connect.search(text1, count=100)\n",
    "tweet_data1=api_connect.search(text2, count=100)\n",
    "tweet_data2=api_connect.search(text3, count=100)"
   ]
  },
  {
   "cell_type": "code",
   "execution_count": 5,
   "metadata": {},
   "outputs": [],
   "source": [
    "# Reading tweets from Twitter for all inputs\n",
    "df = pd.DataFrame([tweet.text for tweet in tweet_data], columns=['Tweets'])\n",
    "df1=pd.DataFrame([tweet.text for tweet in tweet_data1], columns=['Tweets'])\n",
    "df2=pd.DataFrame([tweet.text for tweet in tweet_data2], columns=['Tweets'])"
   ]
  },
  {
   "cell_type": "markdown",
   "metadata": {},
   "source": [
    "# Analysis of Sentiment on Tweets posted(negative,positive and neutral)"
   ]
  },
  {
   "cell_type": "markdown",
   "metadata": {},
   "source": [
    "Helper function to clean text since there are elements/tokens in our tweet's text which are not needed for the sentiment analysis like Twitter usernames,hashtages,retweets information gives by \"RT: \",URL,etc"
   ]
  },
  {
   "cell_type": "code",
   "execution_count": 6,
   "metadata": {},
   "outputs": [],
   "source": [
    "# function to clean tweets such that we are removing hashtages,mentions,retweets and links\n",
    "def cleantxt(text):\n",
    "    text = re.sub(r'@[A-Za-z0-9]+','',text)\n",
    "    text = re.sub(r'#', '', text)\n",
    "    text = re.sub(r'RT[\\s]+', '', text)\n",
    "    text = re.sub(r'https?:\\/\\/\\S+','',text)\n",
    "    return text"
   ]
  },
  {
   "cell_type": "code",
   "execution_count": 7,
   "metadata": {},
   "outputs": [],
   "source": [
    "# Applying cleantxt function to all dataframes \n",
    "df['Tweets'] = df['Tweets'].apply(cleantxt)\n",
    "df1['Tweets']=df1['Tweets'].apply(cleantxt)\n",
    "df2['Tweets']=df2['Tweets'].apply(cleantxt)"
   ]
  },
  {
   "cell_type": "markdown",
   "metadata": {},
   "source": [
    "Helper functions to find polarity and subjectivity of the tweets using textblob library.As per the documentation,"
   ]
  },
  {
   "cell_type": "markdown",
   "metadata": {},
   "source": [
    "The sentiment property returns a namedtuple of the form **Sentiment(polarity,subjectivity)**.The polarity score is a \n",
    "float within the range[-1.0,1.0].The subjectivity is a float within the range [0.0,1.0] where 0.0 is very objectivity\n",
    "and 1.0 is very subjectivity"
   ]
  },
  {
   "cell_type": "code",
   "execution_count": 8,
   "metadata": {},
   "outputs": [],
   "source": [
    "# function to get subjectivity\n",
    "def getsubjectivity(text):\n",
    "    return TextBlob(text).sentiment.subjectivity"
   ]
  },
  {
   "cell_type": "code",
   "execution_count": 9,
   "metadata": {},
   "outputs": [],
   "source": [
    "# function to get polarity\n",
    "def getpolarity(text):\n",
    "    return TextBlob(text).sentiment.polarity"
   ]
  },
  {
   "cell_type": "code",
   "execution_count": 10,
   "metadata": {},
   "outputs": [],
   "source": [
    "# Applying getsubjectivity and getpolarity functions on all dataframes\n",
    "df['Subjectivity'] = df['Tweets'].apply(getsubjectivity)\n",
    "df1['Subjectivity']=df1['Tweets'].apply(getsubjectivity)\n",
    "df2['Subjectivity']=df2['Tweets'].apply(getsubjectivity)\n",
    "df['Polarity'] = df['Tweets'].apply(getpolarity)\n",
    "df1['Polarity']=df1['Tweets'].apply(getpolarity)\n",
    "df2['Polarity']=df2['Tweets'].apply(getpolarity)"
   ]
  },
  {
   "cell_type": "code",
   "execution_count": 11,
   "metadata": {},
   "outputs": [],
   "source": [
    "# function to get analysis\n",
    "def getAnalysis(x):\n",
    "    if (x < 0):\n",
    "        return 'Negative'\n",
    "    elif (x == 0):\n",
    "        return 'Neutral'\n",
    "    elif (x > 0):\n",
    "        return 'Positive'"
   ]
  },
  {
   "cell_type": "code",
   "execution_count": 12,
   "metadata": {},
   "outputs": [],
   "source": [
    "#Applying getAnalsysis function on polrity of dataframes\n",
    "df['Analysis'] = df['Polarity'].apply(getAnalysis)\n",
    "df1['Analysis'] = df1['Polarity'].apply(getAnalysis)\n",
    "df2['Analysis'] = df2['Polarity'].apply(getAnalysis)"
   ]
  },
  {
   "cell_type": "code",
   "execution_count": 13,
   "metadata": {},
   "outputs": [],
   "source": [
    "# Counting the positive and neutral tweets\n",
    "c1=c2=c3=0\n",
    "for i in range(len(df)) :\n",
    "    if(df.loc[i,\"Polarity\"]>=0):\n",
    "        c1=c1+1\n",
    "for i in range(len(df1)) :\n",
    "    if(df1.loc[i,\"Polarity\"]>=0):\n",
    "        c2=c2+1\n",
    "for i in range(len(df2)) :\n",
    "    if(df2.loc[i,\"Polarity\"]>=0):\n",
    "        c3=c3+1"
   ]
  },
  {
   "cell_type": "code",
   "execution_count": 14,
   "metadata": {},
   "outputs": [
    {
     "name": "stdout",
     "output_type": "stream",
     "text": [
      "BJP has the maximum winning chances\n"
     ]
    }
   ],
   "source": [
    "# Counting which party has maximum winnig chance\n",
    "if (c1>=c2)and(c1 >=c3):\n",
    "   largest=c1\n",
    "   print(text1+\" has the maximum winning chances\")\n",
    "elif (c2>=c1) and (c2>=c3):\n",
    "   largest=c2\n",
    "   print(text2 + \" has the maximum winning chances\")\n",
    "else:\n",
    "   largest=c3\n",
    "   print(text3 +\" has the maximum winning chances\")"
   ]
  },
  {
   "cell_type": "markdown",
   "metadata": {},
   "source": [
    "# REPRESENTATION OF DATAFRAMES AND DATAFRAMES IN GRAPHS "
   ]
  },
  {
   "cell_type": "code",
   "execution_count": 15,
   "metadata": {},
   "outputs": [
    {
     "name": "stdout",
     "output_type": "stream",
     "text": [
      "enter 1 to show data frame of  BJP \n",
      "\n",
      "enter 2 to show data frame of  CONGRESS \n",
      "\n",
      "enter 3 to show data frame of  AAP \n",
      "\n",
      "enter 4 to show pie chart representation\n",
      "\n",
      "enter 5 to show bar plot representation\n",
      "\n",
      "4\n"
     ]
    },
    {
     "data": {
      "image/png": "[encoded data removed]",
      "text/plain": [
       "<Figure size 720x504 with 1 Axes>"
      ]
     },
     "metadata": {},
     "output_type": "display_data"
    },
    {
     "name": "stdout",
     "output_type": "stream",
     "text": [
      "enter 1 to show data frame of  BJP \n",
      "\n",
      "enter 2 to show data frame of  CONGRESS \n",
      "\n",
      "enter 3 to show data frame of  AAP \n",
      "\n",
      "enter 4 to show pie chart representation\n",
      "\n",
      "enter 5 to show bar plot representation\n",
      "\n",
      "5\n"
     ]
    },
    {
     "data": {
      "image/png": "[encoded data removed]",
      "text/plain": [
       "<Figure size 720x360 with 1 Axes>"
      ]
     },
     "metadata": {},
     "output_type": "display_data"
    },
    {
     "name": "stdout",
     "output_type": "stream",
     "text": [
      "enter 1 to show data frame of  BJP \n",
      "\n",
      "enter 2 to show data frame of  CONGRESS \n",
      "\n",
      "enter 3 to show data frame of  AAP \n",
      "\n",
      "enter 4 to show pie chart representation\n",
      "\n",
      "enter 5 to show bar plot representation\n",
      "\n",
      "6\n"
     ]
    }
   ],
   "source": [
    "party=['BJP','Congress','AAP']\n",
    "while(True):\n",
    "    print(\"enter 1 to show data frame of \",text1,\"\\n\")\n",
    "    print(\"enter 2 to show data frame of \", text2,\"\\n\")\n",
    "    print(\"enter 3 to show data frame of \", text3,\"\\n\")\n",
    "    print(\"enter 4 to show pie chart representation\\n\")\n",
    "    print(\"enter 5 to show bar plot representation\\n\")\n",
    "    k=int(input())\n",
    "    if(k==1):\n",
    "        print(df)\n",
    "    elif(k==2):\n",
    "        print(df1)\n",
    "    elif(k==3):\n",
    "        print(df2)\n",
    "    elif(k==4):\n",
    "        data = [c1,c2,c3]\n",
    "        # Creating plot\n",
    "        fig = plt.figure(figsize=(10, 7))\n",
    "        plt.pie(data, labels=party)\n",
    "        # show plot\n",
    "        plt.show()\n",
    "    elif(k==5):\n",
    "        data = {text1:c1,text2:c2,text3:c3}\n",
    "        parties= list(data.keys())\n",
    "        values = list(data.values())\n",
    "        fig = plt.figure(figsize=(10, 5))\n",
    "        # creating the bar plot\n",
    "        plt.bar(parties, values, color='lightgreen',\n",
    "                width=0.4)\n",
    "        plt.xlabel(\"Contesting parties\")\n",
    "        plt.ylabel(\"Measure of positive sentiments\")\n",
    "        plt.title(\"Winning Scenerio of different parties\")\n",
    "        plt.show()\n",
    "    elif(k==6):\n",
    "        break"
   ]
  },
  {
   "cell_type": "code",
   "execution_count": null,
   "metadata": {},
   "outputs": [],
   "source": []
  }
 ],
 "metadata": {
  "kernelspec": {
   "display_name": "Python 3",
   "language": "python",
   "name": "python3"
  },
  "language_info": {
   "codemirror_mode": {
    "name": "ipython",
    "version": 3
   },
   "file_extension": ".py",
   "mimetype": "text/x-python",
   "name": "python",
   "nbconvert_exporter": "python",
   "pygments_lexer": "ipython3",
   "version": "3.8.5"
  }
 },
 "nbformat": 4,
 "nbformat_minor": 4
}
